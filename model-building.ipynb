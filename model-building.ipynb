{
 "cells": [
  {
   "cell_type": "code",
   "execution_count": 2,
   "metadata": {},
   "outputs": [],
   "source": [
    "import pandas as pd\n",
    "import numpy as np\n",
    "from sklearn.preprocessing import LabelEncoder"
   ]
  },
  {
   "cell_type": "code",
   "execution_count": 3,
   "metadata": {},
   "outputs": [],
   "source": [
    "data = pd.read_csv(\"new_interview_data.csv\")"
   ]
  },
  {
   "cell_type": "code",
   "execution_count": 4,
   "metadata": {},
   "outputs": [
    {
     "name": "stdout",
     "output_type": "stream",
     "text": [
      "<class 'pandas.core.frame.DataFrame'>\n",
      "RangeIndex: 2151 entries, 0 to 2150\n",
      "Data columns (total 4 columns):\n",
      " #   Column          Non-Null Count  Dtype \n",
      "---  ------          --------------  ----- \n",
      " 0   interview_type  2151 non-null   object\n",
      " 1   question        2151 non-null   object\n",
      " 2   answer          2151 non-null   object\n",
      " 3   category        2151 non-null   object\n",
      "dtypes: object(4)\n",
      "memory usage: 67.3+ KB\n"
     ]
    }
   ],
   "source": [
    "data.info()"
   ]
  },
  {
   "cell_type": "code",
   "execution_count": 5,
   "metadata": {},
   "outputs": [
    {
     "data": {
      "text/html": [
       "<div>\n",
       "<style scoped>\n",
       "    .dataframe tbody tr th:only-of-type {\n",
       "        vertical-align: middle;\n",
       "    }\n",
       "\n",
       "    .dataframe tbody tr th {\n",
       "        vertical-align: top;\n",
       "    }\n",
       "\n",
       "    .dataframe thead th {\n",
       "        text-align: right;\n",
       "    }\n",
       "</style>\n",
       "<table border=\"1\" class=\"dataframe\">\n",
       "  <thead>\n",
       "    <tr style=\"text-align: right;\">\n",
       "      <th></th>\n",
       "      <th>interview_type</th>\n",
       "      <th>question</th>\n",
       "      <th>answer</th>\n",
       "      <th>category</th>\n",
       "    </tr>\n",
       "  </thead>\n",
       "  <tbody>\n",
       "    <tr>\n",
       "      <th>0</th>\n",
       "      <td>behavioural</td>\n",
       "      <td>Describe a time when you had to meet a tight d...</td>\n",
       "      <td>I had a project that had a deadline approachin...</td>\n",
       "      <td>poor</td>\n",
       "    </tr>\n",
       "    <tr>\n",
       "      <th>1</th>\n",
       "      <td>situational</td>\n",
       "      <td>You are leading a team to implement a new soft...</td>\n",
       "      <td>I would first have a private conversation with...</td>\n",
       "      <td>average</td>\n",
       "    </tr>\n",
       "    <tr>\n",
       "      <th>2</th>\n",
       "      <td>situational</td>\n",
       "      <td>You are tasked with designing a new website fo...</td>\n",
       "      <td>I would schedule regular check-ins with the cl...</td>\n",
       "      <td>great</td>\n",
       "    </tr>\n",
       "    <tr>\n",
       "      <th>3</th>\n",
       "      <td>behavioural</td>\n",
       "      <td>Can you give an example of a time when you had...</td>\n",
       "      <td>I had a project that required using a new prog...</td>\n",
       "      <td>poor</td>\n",
       "    </tr>\n",
       "    <tr>\n",
       "      <th>4</th>\n",
       "      <td>behavioural</td>\n",
       "      <td>Describe a situation where you had to deal wit...</td>\n",
       "      <td>I had a project where different stakeholders h...</td>\n",
       "      <td>average</td>\n",
       "    </tr>\n",
       "  </tbody>\n",
       "</table>\n",
       "</div>"
      ],
      "text/plain": [
       "  interview_type                                           question  \\\n",
       "0    behavioural  Describe a time when you had to meet a tight d...   \n",
       "1    situational  You are leading a team to implement a new soft...   \n",
       "2    situational  You are tasked with designing a new website fo...   \n",
       "3    behavioural  Can you give an example of a time when you had...   \n",
       "4    behavioural  Describe a situation where you had to deal wit...   \n",
       "\n",
       "                                              answer category  \n",
       "0  I had a project that had a deadline approachin...     poor  \n",
       "1  I would first have a private conversation with...  average  \n",
       "2  I would schedule regular check-ins with the cl...    great  \n",
       "3  I had a project that required using a new prog...     poor  \n",
       "4  I had a project where different stakeholders h...  average  "
      ]
     },
     "execution_count": 5,
     "metadata": {},
     "output_type": "execute_result"
    }
   ],
   "source": [
    "data.head()"
   ]
  },
  {
   "cell_type": "code",
   "execution_count": 6,
   "metadata": {},
   "outputs": [
    {
     "data": {
      "text/plain": [
       "category\n",
       "great      1238\n",
       "average     484\n",
       "poor        429\n",
       "Name: count, dtype: int64"
      ]
     },
     "execution_count": 6,
     "metadata": {},
     "output_type": "execute_result"
    }
   ],
   "source": [
    "data.category.value_counts()"
   ]
  },
  {
   "cell_type": "code",
   "execution_count": 7,
   "metadata": {},
   "outputs": [
    {
     "name": "stdout",
     "output_type": "stream",
     "text": [
      "<class 'pandas.core.frame.DataFrame'>\n",
      "RangeIndex: 2151 entries, 0 to 2150\n",
      "Data columns (total 4 columns):\n",
      " #   Column          Non-Null Count  Dtype \n",
      "---  ------          --------------  ----- \n",
      " 0   interview_type  2151 non-null   object\n",
      " 1   question        2151 non-null   object\n",
      " 2   answer          2151 non-null   object\n",
      " 3   category        2151 non-null   object\n",
      "dtypes: object(4)\n",
      "memory usage: 67.3+ KB\n"
     ]
    }
   ],
   "source": [
    "data.info()"
   ]
  },
  {
   "attachments": {},
   "cell_type": "markdown",
   "metadata": {},
   "source": [
    "##### Preprocessing"
   ]
  },
  {
   "cell_type": "code",
   "execution_count": 8,
   "metadata": {},
   "outputs": [],
   "source": [
    "#mapping labels \n",
    "category_mapping = {'poor': 0, 'average': 1, 'great': 2}\n",
    "\n",
    "# Map the values to the 'category' column\n",
    "data['mapped_category'] = data['category'].map(category_mapping)\n"
   ]
  },
  {
   "cell_type": "code",
   "execution_count": 9,
   "metadata": {},
   "outputs": [
    {
     "data": {
      "text/html": [
       "<div>\n",
       "<style scoped>\n",
       "    .dataframe tbody tr th:only-of-type {\n",
       "        vertical-align: middle;\n",
       "    }\n",
       "\n",
       "    .dataframe tbody tr th {\n",
       "        vertical-align: top;\n",
       "    }\n",
       "\n",
       "    .dataframe thead th {\n",
       "        text-align: right;\n",
       "    }\n",
       "</style>\n",
       "<table border=\"1\" class=\"dataframe\">\n",
       "  <thead>\n",
       "    <tr style=\"text-align: right;\">\n",
       "      <th></th>\n",
       "      <th>interview_type</th>\n",
       "      <th>question</th>\n",
       "      <th>answer</th>\n",
       "      <th>category</th>\n",
       "      <th>mapped_category</th>\n",
       "    </tr>\n",
       "  </thead>\n",
       "  <tbody>\n",
       "    <tr>\n",
       "      <th>0</th>\n",
       "      <td>behavioural</td>\n",
       "      <td>Describe a time when you had to meet a tight d...</td>\n",
       "      <td>I had a project that had a deadline approachin...</td>\n",
       "      <td>poor</td>\n",
       "      <td>0</td>\n",
       "    </tr>\n",
       "    <tr>\n",
       "      <th>1</th>\n",
       "      <td>situational</td>\n",
       "      <td>You are leading a team to implement a new soft...</td>\n",
       "      <td>I would first have a private conversation with...</td>\n",
       "      <td>average</td>\n",
       "      <td>1</td>\n",
       "    </tr>\n",
       "    <tr>\n",
       "      <th>2</th>\n",
       "      <td>situational</td>\n",
       "      <td>You are tasked with designing a new website fo...</td>\n",
       "      <td>I would schedule regular check-ins with the cl...</td>\n",
       "      <td>great</td>\n",
       "      <td>2</td>\n",
       "    </tr>\n",
       "    <tr>\n",
       "      <th>3</th>\n",
       "      <td>behavioural</td>\n",
       "      <td>Can you give an example of a time when you had...</td>\n",
       "      <td>I had a project that required using a new prog...</td>\n",
       "      <td>poor</td>\n",
       "      <td>0</td>\n",
       "    </tr>\n",
       "    <tr>\n",
       "      <th>4</th>\n",
       "      <td>behavioural</td>\n",
       "      <td>Describe a situation where you had to deal wit...</td>\n",
       "      <td>I had a project where different stakeholders h...</td>\n",
       "      <td>average</td>\n",
       "      <td>1</td>\n",
       "    </tr>\n",
       "  </tbody>\n",
       "</table>\n",
       "</div>"
      ],
      "text/plain": [
       "  interview_type                                           question  \\\n",
       "0    behavioural  Describe a time when you had to meet a tight d...   \n",
       "1    situational  You are leading a team to implement a new soft...   \n",
       "2    situational  You are tasked with designing a new website fo...   \n",
       "3    behavioural  Can you give an example of a time when you had...   \n",
       "4    behavioural  Describe a situation where you had to deal wit...   \n",
       "\n",
       "                                              answer category  mapped_category  \n",
       "0  I had a project that had a deadline approachin...     poor                0  \n",
       "1  I would first have a private conversation with...  average                1  \n",
       "2  I would schedule regular check-ins with the cl...    great                2  \n",
       "3  I had a project that required using a new prog...     poor                0  \n",
       "4  I had a project where different stakeholders h...  average                1  "
      ]
     },
     "execution_count": 9,
     "metadata": {},
     "output_type": "execute_result"
    }
   ],
   "source": [
    "data.head()"
   ]
  },
  {
   "cell_type": "code",
   "execution_count": 10,
   "metadata": {},
   "outputs": [],
   "source": [
    "data[\"interview_type\"] = data[\"interview_type\"].str.lower()"
   ]
  },
  {
   "cell_type": "code",
   "execution_count": 11,
   "metadata": {},
   "outputs": [],
   "source": [
    "corrections = {'behavioral':'behavioural'}"
   ]
  },
  {
   "cell_type": "code",
   "execution_count": 12,
   "metadata": {},
   "outputs": [],
   "source": [
    "data[\"interview_type\"]= data[\"interview_type\"].replace(corrections)"
   ]
  },
  {
   "cell_type": "code",
   "execution_count": 13,
   "metadata": {},
   "outputs": [],
   "source": [
    "row_idx = data[data['interview_type']== \"answer\"].index"
   ]
  },
  {
   "cell_type": "code",
   "execution_count": 14,
   "metadata": {},
   "outputs": [],
   "source": [
    "# dropped = data.drop(data[data['interview_type']== \"answer\"].index)\n",
    "# dropped.interview_type.value_counts()"
   ]
  },
  {
   "cell_type": "code",
   "execution_count": 15,
   "metadata": {},
   "outputs": [],
   "source": [
    "#new_data = data.drop([row_idx[0]])\n",
    "#new_data.interview_type.value_counts()"
   ]
  },
  {
   "cell_type": "code",
   "execution_count": 17,
   "metadata": {},
   "outputs": [
    {
     "data": {
      "text/plain": [
       "interview_type\n",
       "behavioural    1174\n",
       "situational     976\n",
       "answer            1\n",
       "Name: count, dtype: int64"
      ]
     },
     "execution_count": 17,
     "metadata": {},
     "output_type": "execute_result"
    }
   ],
   "source": [
    "data['interview_type'].value_counts()"
   ]
  },
  {
   "cell_type": "code",
   "execution_count": 20,
   "metadata": {},
   "outputs": [],
   "source": [
    "data.drop([row_idx[0]], inplace= True)"
   ]
  },
  {
   "cell_type": "code",
   "execution_count": 21,
   "metadata": {},
   "outputs": [
    {
     "data": {
      "text/plain": [
       "interview_type\n",
       "behavioural    1174\n",
       "situational     976\n",
       "Name: count, dtype: int64"
      ]
     },
     "execution_count": 21,
     "metadata": {},
     "output_type": "execute_result"
    }
   ],
   "source": [
    "data['interview_type'].value_counts()"
   ]
  },
  {
   "cell_type": "code",
   "execution_count": 22,
   "metadata": {},
   "outputs": [],
   "source": [
    "interview_type_map = {'behavioural' : 1, 'situational' : 2}\n",
    "\n",
    "data['interview_map'] = data['interview_type'].map(interview_type_map)"
   ]
  },
  {
   "cell_type": "code",
   "execution_count": 28,
   "metadata": {},
   "outputs": [
    {
     "data": {
      "text/html": [
       "<div>\n",
       "<style scoped>\n",
       "    .dataframe tbody tr th:only-of-type {\n",
       "        vertical-align: middle;\n",
       "    }\n",
       "\n",
       "    .dataframe tbody tr th {\n",
       "        vertical-align: top;\n",
       "    }\n",
       "\n",
       "    .dataframe thead th {\n",
       "        text-align: right;\n",
       "    }\n",
       "</style>\n",
       "<table border=\"1\" class=\"dataframe\">\n",
       "  <thead>\n",
       "    <tr style=\"text-align: right;\">\n",
       "      <th></th>\n",
       "      <th>interview_type</th>\n",
       "      <th>question</th>\n",
       "      <th>answer</th>\n",
       "      <th>category</th>\n",
       "      <th>mapped_category</th>\n",
       "      <th>interview_map</th>\n",
       "    </tr>\n",
       "  </thead>\n",
       "  <tbody>\n",
       "    <tr>\n",
       "      <th>0</th>\n",
       "      <td>behavioural</td>\n",
       "      <td>Describe a time when you had to meet a tight d...</td>\n",
       "      <td>I had a project that had a deadline approachin...</td>\n",
       "      <td>poor</td>\n",
       "      <td>0</td>\n",
       "      <td>1</td>\n",
       "    </tr>\n",
       "    <tr>\n",
       "      <th>1</th>\n",
       "      <td>situational</td>\n",
       "      <td>You are leading a team to implement a new soft...</td>\n",
       "      <td>I would first have a private conversation with...</td>\n",
       "      <td>average</td>\n",
       "      <td>1</td>\n",
       "      <td>2</td>\n",
       "    </tr>\n",
       "    <tr>\n",
       "      <th>2</th>\n",
       "      <td>situational</td>\n",
       "      <td>You are tasked with designing a new website fo...</td>\n",
       "      <td>I would schedule regular check-ins with the cl...</td>\n",
       "      <td>great</td>\n",
       "      <td>2</td>\n",
       "      <td>2</td>\n",
       "    </tr>\n",
       "    <tr>\n",
       "      <th>3</th>\n",
       "      <td>behavioural</td>\n",
       "      <td>Can you give an example of a time when you had...</td>\n",
       "      <td>I had a project that required using a new prog...</td>\n",
       "      <td>poor</td>\n",
       "      <td>0</td>\n",
       "      <td>1</td>\n",
       "    </tr>\n",
       "    <tr>\n",
       "      <th>4</th>\n",
       "      <td>behavioural</td>\n",
       "      <td>Describe a situation where you had to deal wit...</td>\n",
       "      <td>I had a project where different stakeholders h...</td>\n",
       "      <td>average</td>\n",
       "      <td>1</td>\n",
       "      <td>1</td>\n",
       "    </tr>\n",
       "  </tbody>\n",
       "</table>\n",
       "</div>"
      ],
      "text/plain": [
       "  interview_type                                           question  \\\n",
       "0    behavioural  Describe a time when you had to meet a tight d...   \n",
       "1    situational  You are leading a team to implement a new soft...   \n",
       "2    situational  You are tasked with designing a new website fo...   \n",
       "3    behavioural  Can you give an example of a time when you had...   \n",
       "4    behavioural  Describe a situation where you had to deal wit...   \n",
       "\n",
       "                                              answer category  \\\n",
       "0  I had a project that had a deadline approachin...     poor   \n",
       "1  I would first have a private conversation with...  average   \n",
       "2  I would schedule regular check-ins with the cl...    great   \n",
       "3  I had a project that required using a new prog...     poor   \n",
       "4  I had a project where different stakeholders h...  average   \n",
       "\n",
       "   mapped_category  interview_map  \n",
       "0                0              1  \n",
       "1                1              2  \n",
       "2                2              2  \n",
       "3                0              1  \n",
       "4                1              1  "
      ]
     },
     "execution_count": 28,
     "metadata": {},
     "output_type": "execute_result"
    }
   ],
   "source": [
    "data.head()"
   ]
  },
  {
   "cell_type": "code",
   "execution_count": 42,
   "metadata": {},
   "outputs": [],
   "source": [
    "data.drop([\"interview_type\", \"category\"], axis=1, inplace=True)"
   ]
  },
  {
   "cell_type": "code",
   "execution_count": 44,
   "metadata": {},
   "outputs": [
    {
     "data": {
      "text/html": [
       "<div>\n",
       "<style scoped>\n",
       "    .dataframe tbody tr th:only-of-type {\n",
       "        vertical-align: middle;\n",
       "    }\n",
       "\n",
       "    .dataframe tbody tr th {\n",
       "        vertical-align: top;\n",
       "    }\n",
       "\n",
       "    .dataframe thead th {\n",
       "        text-align: right;\n",
       "    }\n",
       "</style>\n",
       "<table border=\"1\" class=\"dataframe\">\n",
       "  <thead>\n",
       "    <tr style=\"text-align: right;\">\n",
       "      <th></th>\n",
       "      <th>question</th>\n",
       "      <th>answer</th>\n",
       "      <th>mapped_category</th>\n",
       "      <th>interview_map</th>\n",
       "    </tr>\n",
       "  </thead>\n",
       "  <tbody>\n",
       "    <tr>\n",
       "      <th>0</th>\n",
       "      <td>Describe a time when you had to meet a tight d...</td>\n",
       "      <td>I had a project that had a deadline approachin...</td>\n",
       "      <td>0</td>\n",
       "      <td>1</td>\n",
       "    </tr>\n",
       "    <tr>\n",
       "      <th>1</th>\n",
       "      <td>You are leading a team to implement a new soft...</td>\n",
       "      <td>I would first have a private conversation with...</td>\n",
       "      <td>1</td>\n",
       "      <td>2</td>\n",
       "    </tr>\n",
       "    <tr>\n",
       "      <th>2</th>\n",
       "      <td>You are tasked with designing a new website fo...</td>\n",
       "      <td>I would schedule regular check-ins with the cl...</td>\n",
       "      <td>2</td>\n",
       "      <td>2</td>\n",
       "    </tr>\n",
       "    <tr>\n",
       "      <th>3</th>\n",
       "      <td>Can you give an example of a time when you had...</td>\n",
       "      <td>I had a project that required using a new prog...</td>\n",
       "      <td>0</td>\n",
       "      <td>1</td>\n",
       "    </tr>\n",
       "    <tr>\n",
       "      <th>4</th>\n",
       "      <td>Describe a situation where you had to deal wit...</td>\n",
       "      <td>I had a project where different stakeholders h...</td>\n",
       "      <td>1</td>\n",
       "      <td>1</td>\n",
       "    </tr>\n",
       "  </tbody>\n",
       "</table>\n",
       "</div>"
      ],
      "text/plain": [
       "                                            question  \\\n",
       "0  Describe a time when you had to meet a tight d...   \n",
       "1  You are leading a team to implement a new soft...   \n",
       "2  You are tasked with designing a new website fo...   \n",
       "3  Can you give an example of a time when you had...   \n",
       "4  Describe a situation where you had to deal wit...   \n",
       "\n",
       "                                              answer  mapped_category  \\\n",
       "0  I had a project that had a deadline approachin...                0   \n",
       "1  I would first have a private conversation with...                1   \n",
       "2  I would schedule regular check-ins with the cl...                2   \n",
       "3  I had a project that required using a new prog...                0   \n",
       "4  I had a project where different stakeholders h...                1   \n",
       "\n",
       "   interview_map  \n",
       "0              1  \n",
       "1              2  \n",
       "2              2  \n",
       "3              1  \n",
       "4              1  "
      ]
     },
     "execution_count": 44,
     "metadata": {},
     "output_type": "execute_result"
    }
   ],
   "source": [
    "data.head()"
   ]
  },
  {
   "attachments": {},
   "cell_type": "markdown",
   "metadata": {},
   "source": [
    "In this reformed dataset, the categories are mapped as:\n",
    "poor - 0,\n",
    "average - 1,\n",
    "great - 2\n",
    "\n",
    "and the interview type is mapped as \n",
    "behavioural questions - 1 and situational questions - 2"
   ]
  },
  {
   "cell_type": "code",
   "execution_count": 46,
   "metadata": {},
   "outputs": [],
   "source": [
    "data['question'] = data['question'].str.lower()"
   ]
  },
  {
   "cell_type": "code",
   "execution_count": 47,
   "metadata": {},
   "outputs": [],
   "source": [
    "data['answer'] = data['answer'].str.lower()"
   ]
  },
  {
   "cell_type": "code",
   "execution_count": 48,
   "metadata": {},
   "outputs": [
    {
     "data": {
      "text/html": [
       "<div>\n",
       "<style scoped>\n",
       "    .dataframe tbody tr th:only-of-type {\n",
       "        vertical-align: middle;\n",
       "    }\n",
       "\n",
       "    .dataframe tbody tr th {\n",
       "        vertical-align: top;\n",
       "    }\n",
       "\n",
       "    .dataframe thead th {\n",
       "        text-align: right;\n",
       "    }\n",
       "</style>\n",
       "<table border=\"1\" class=\"dataframe\">\n",
       "  <thead>\n",
       "    <tr style=\"text-align: right;\">\n",
       "      <th></th>\n",
       "      <th>question</th>\n",
       "      <th>answer</th>\n",
       "      <th>mapped_category</th>\n",
       "      <th>interview_map</th>\n",
       "    </tr>\n",
       "  </thead>\n",
       "  <tbody>\n",
       "    <tr>\n",
       "      <th>0</th>\n",
       "      <td>describe a time when you had to meet a tight d...</td>\n",
       "      <td>i had a project that had a deadline approachin...</td>\n",
       "      <td>0</td>\n",
       "      <td>1</td>\n",
       "    </tr>\n",
       "    <tr>\n",
       "      <th>1</th>\n",
       "      <td>you are leading a team to implement a new soft...</td>\n",
       "      <td>i would first have a private conversation with...</td>\n",
       "      <td>1</td>\n",
       "      <td>2</td>\n",
       "    </tr>\n",
       "    <tr>\n",
       "      <th>2</th>\n",
       "      <td>you are tasked with designing a new website fo...</td>\n",
       "      <td>i would schedule regular check-ins with the cl...</td>\n",
       "      <td>2</td>\n",
       "      <td>2</td>\n",
       "    </tr>\n",
       "    <tr>\n",
       "      <th>3</th>\n",
       "      <td>can you give an example of a time when you had...</td>\n",
       "      <td>i had a project that required using a new prog...</td>\n",
       "      <td>0</td>\n",
       "      <td>1</td>\n",
       "    </tr>\n",
       "    <tr>\n",
       "      <th>4</th>\n",
       "      <td>describe a situation where you had to deal wit...</td>\n",
       "      <td>i had a project where different stakeholders h...</td>\n",
       "      <td>1</td>\n",
       "      <td>1</td>\n",
       "    </tr>\n",
       "  </tbody>\n",
       "</table>\n",
       "</div>"
      ],
      "text/plain": [
       "                                            question  \\\n",
       "0  describe a time when you had to meet a tight d...   \n",
       "1  you are leading a team to implement a new soft...   \n",
       "2  you are tasked with designing a new website fo...   \n",
       "3  can you give an example of a time when you had...   \n",
       "4  describe a situation where you had to deal wit...   \n",
       "\n",
       "                                              answer  mapped_category  \\\n",
       "0  i had a project that had a deadline approachin...                0   \n",
       "1  i would first have a private conversation with...                1   \n",
       "2  i would schedule regular check-ins with the cl...                2   \n",
       "3  i had a project that required using a new prog...                0   \n",
       "4  i had a project where different stakeholders h...                1   \n",
       "\n",
       "   interview_map  \n",
       "0              1  \n",
       "1              2  \n",
       "2              2  \n",
       "3              1  \n",
       "4              1  "
      ]
     },
     "execution_count": 48,
     "metadata": {},
     "output_type": "execute_result"
    }
   ],
   "source": [
    "data.head()"
   ]
  },
  {
   "attachments": {},
   "cell_type": "markdown",
   "metadata": {},
   "source": [
    "#### Punctuations"
   ]
  },
  {
   "cell_type": "code",
   "execution_count": 52,
   "metadata": {},
   "outputs": [
    {
     "data": {
      "text/plain": [
       "'!\"#$%&\\'()*+,-./:;<=>?@[\\\\]^_`{|}~'"
      ]
     },
     "execution_count": 52,
     "metadata": {},
     "output_type": "execute_result"
    }
   ],
   "source": [
    "import string\n",
    "string.punctuation"
   ]
  },
  {
   "cell_type": "code",
   "execution_count": 54,
   "metadata": {},
   "outputs": [],
   "source": [
    "def remove_punc(text):\n",
    "    punc = string.punctuation\n",
    "    return text.translate(str.maketrans('', '', punc))"
   ]
  },
  {
   "cell_type": "code",
   "execution_count": 55,
   "metadata": {},
   "outputs": [],
   "source": [
    "data['answer'] = data['answer'].apply(lambda x: remove_punc(x))"
   ]
  },
  {
   "cell_type": "code",
   "execution_count": 56,
   "metadata": {},
   "outputs": [],
   "source": [
    "data['question'] = data['question'].apply(lambda x: remove_punc(x))"
   ]
  },
  {
   "cell_type": "code",
   "execution_count": 58,
   "metadata": {},
   "outputs": [
    {
     "data": {
      "text/plain": [
       "'i had a project that required using a new programming language that i was unfamiliar with i dedicated extra time to selfstudy utilized online resources and sought guidance from colleagues to quickly grasp the basics and successfully complete the project on time'"
      ]
     },
     "execution_count": 58,
     "metadata": {},
     "output_type": "execute_result"
    }
   ],
   "source": [
    "data.answer[3]"
   ]
  },
  {
   "attachments": {},
   "cell_type": "markdown",
   "metadata": {},
   "source": [
    "#### System with stopword removal"
   ]
  },
  {
   "cell_type": "code",
   "execution_count": 64,
   "metadata": {},
   "outputs": [],
   "source": [
    "import nltk\n",
    "from nltk.corpus import stopwords"
   ]
  },
  {
   "cell_type": "code",
   "execution_count": 65,
   "metadata": {},
   "outputs": [
    {
     "name": "stderr",
     "output_type": "stream",
     "text": [
      "[nltk_data] Downloading package stopwords to\n",
      "[nltk_data]     /Users/ayoyinka/nltk_data...\n",
      "[nltk_data]   Unzipping corpora/stopwords.zip.\n"
     ]
    },
    {
     "data": {
      "text/plain": [
       "True"
      ]
     },
     "execution_count": 65,
     "metadata": {},
     "output_type": "execute_result"
    }
   ],
   "source": [
    "nltk.download('stopwords')"
   ]
  },
  {
   "cell_type": "code",
   "execution_count": 66,
   "metadata": {},
   "outputs": [],
   "source": [
    "stop_words = set(stopwords.words('english'))"
   ]
  },
  {
   "cell_type": "code",
   "execution_count": 67,
   "metadata": {},
   "outputs": [],
   "source": [
    "def remove_stopwords(txt):\n",
    "    return \" \".join([word for word in txt.split() if word not in stop_words])"
   ]
  },
  {
   "cell_type": "code",
   "execution_count": 68,
   "metadata": {},
   "outputs": [],
   "source": [
    "data['answer'] = data['answer'].apply(lambda x: remove_stopwords(x))"
   ]
  },
  {
   "cell_type": "code",
   "execution_count": 69,
   "metadata": {},
   "outputs": [],
   "source": [
    "data['question'] = data['question'].apply(lambda x: remove_stopwords(x))"
   ]
  },
  {
   "cell_type": "code",
   "execution_count": 73,
   "metadata": {},
   "outputs": [
    {
     "data": {
      "text/html": [
       "<div>\n",
       "<style scoped>\n",
       "    .dataframe tbody tr th:only-of-type {\n",
       "        vertical-align: middle;\n",
       "    }\n",
       "\n",
       "    .dataframe tbody tr th {\n",
       "        vertical-align: top;\n",
       "    }\n",
       "\n",
       "    .dataframe thead th {\n",
       "        text-align: right;\n",
       "    }\n",
       "</style>\n",
       "<table border=\"1\" class=\"dataframe\">\n",
       "  <thead>\n",
       "    <tr style=\"text-align: right;\">\n",
       "      <th></th>\n",
       "      <th>question</th>\n",
       "      <th>answer</th>\n",
       "      <th>mapped_category</th>\n",
       "      <th>interview_map</th>\n",
       "    </tr>\n",
       "  </thead>\n",
       "  <tbody>\n",
       "    <tr>\n",
       "      <th>0</th>\n",
       "      <td>describe time meet tight deadline project prio...</td>\n",
       "      <td>project deadline approaching quickly focused b...</td>\n",
       "      <td>0</td>\n",
       "      <td>1</td>\n",
       "    </tr>\n",
       "    <tr>\n",
       "      <th>1</th>\n",
       "      <td>leading team implement new software system tea...</td>\n",
       "      <td>would first private conversation team member u...</td>\n",
       "      <td>1</td>\n",
       "      <td>2</td>\n",
       "    </tr>\n",
       "    <tr>\n",
       "      <th>2</th>\n",
       "      <td>tasked designing new website client keep chang...</td>\n",
       "      <td>would schedule regular checkins client ensure ...</td>\n",
       "      <td>2</td>\n",
       "      <td>2</td>\n",
       "    </tr>\n",
       "    <tr>\n",
       "      <th>3</th>\n",
       "      <td>give example time learn new technology quickly...</td>\n",
       "      <td>project required using new programming languag...</td>\n",
       "      <td>0</td>\n",
       "      <td>1</td>\n",
       "    </tr>\n",
       "    <tr>\n",
       "      <th>4</th>\n",
       "      <td>describe situation deal conflicting priorities...</td>\n",
       "      <td>project different stakeholders conflicting pri...</td>\n",
       "      <td>1</td>\n",
       "      <td>1</td>\n",
       "    </tr>\n",
       "  </tbody>\n",
       "</table>\n",
       "</div>"
      ],
      "text/plain": [
       "                                            question  \\\n",
       "0  describe time meet tight deadline project prio...   \n",
       "1  leading team implement new software system tea...   \n",
       "2  tasked designing new website client keep chang...   \n",
       "3  give example time learn new technology quickly...   \n",
       "4  describe situation deal conflicting priorities...   \n",
       "\n",
       "                                              answer  mapped_category  \\\n",
       "0  project deadline approaching quickly focused b...                0   \n",
       "1  would first private conversation team member u...                1   \n",
       "2  would schedule regular checkins client ensure ...                2   \n",
       "3  project required using new programming languag...                0   \n",
       "4  project different stakeholders conflicting pri...                1   \n",
       "\n",
       "   interview_map  \n",
       "0              1  \n",
       "1              2  \n",
       "2              2  \n",
       "3              1  \n",
       "4              1  "
      ]
     },
     "execution_count": 73,
     "metadata": {},
     "output_type": "execute_result"
    }
   ],
   "source": [
    "data.head()"
   ]
  },
  {
   "cell_type": "code",
   "execution_count": null,
   "metadata": {},
   "outputs": [],
   "source": []
  }
 ],
 "metadata": {
  "kernelspec": {
   "display_name": "ml_dev",
   "language": "python",
   "name": "python3"
  },
  "language_info": {
   "codemirror_mode": {
    "name": "ipython",
    "version": 3
   },
   "file_extension": ".py",
   "mimetype": "text/x-python",
   "name": "python",
   "nbconvert_exporter": "python",
   "pygments_lexer": "ipython3",
   "version": "3.10.13"
  },
  "orig_nbformat": 4,
  "vscode": {
   "interpreter": {
    "hash": "1fc1ef45099634c26745c7cf21a26e5098a101d4b41da3af00dfe73e1727ea31"
   }
  }
 },
 "nbformat": 4,
 "nbformat_minor": 2
}
